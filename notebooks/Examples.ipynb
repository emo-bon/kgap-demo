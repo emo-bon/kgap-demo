{
 "cells": [
  {
   "cell_type": "code",
   "execution_count": 16,
   "id": "631964f5-fc34-4372-86ed-18477c1614c6",
   "metadata": {},
   "outputs": [],
   "source": [
    "from connec_functions import execute_to_df, generate_sparql\n",
    "import pandas as pd"
   ]
  },
  {
   "cell_type": "markdown",
   "id": "755caa51-b611-42b2-8d9b-c64f6e52568a",
   "metadata": {},
   "source": [
    "### Example queries on EMO-BON triples"
   ]
  },
  {
   "cell_type": "markdown",
   "id": "9bdbe7e8-78d5-40f7-b802-69845cf42f7b",
   "metadata": {},
   "source": [
    "#### 1. Observatory information"
   ]
  },
  {
   "cell_type": "code",
   "execution_count": 17,
   "id": "132dd23c-10e8-4456-8238-c9e51a34abed",
   "metadata": {},
   "outputs": [],
   "source": [
    "observatory_info = execute_to_df(\"observatories.sparql\")"
   ]
  },
  {
   "cell_type": "code",
   "execution_count": 18,
   "id": "2de6aecd-6a0a-4f32-b93f-8e879931275f",
   "metadata": {},
   "outputs": [
    {
     "data": {
      "text/html": [
       "<div>\n",
       "<style scoped>\n",
       "    .dataframe tbody tr th:only-of-type {\n",
       "        vertical-align: middle;\n",
       "    }\n",
       "\n",
       "    .dataframe tbody tr th {\n",
       "        vertical-align: top;\n",
       "    }\n",
       "\n",
       "    .dataframe thead th {\n",
       "        text-align: right;\n",
       "    }\n",
       "</style>\n",
       "<table border=\"1\" class=\"dataframe\">\n",
       "  <thead>\n",
       "    <tr style=\"text-align: right;\">\n",
       "      <th></th>\n",
       "      <th>observatory</th>\n",
       "      <th>observatory_name</th>\n",
       "      <th>contact_name</th>\n",
       "      <th>contact_email</th>\n",
       "    </tr>\n",
       "  </thead>\n",
       "  <tbody>\n",
       "    <tr>\n",
       "      <th>0</th>\n",
       "      <td>http://data.emobon.embrc.eu/observatory-rformo...</td>\n",
       "      <td>Centre of Marine Sciences (CCMAR)</td>\n",
       "      <td>Bruno Louro</td>\n",
       "      <td>blouro@ualg.pt</td>\n",
       "    </tr>\n",
       "    <tr>\n",
       "      <th>1</th>\n",
       "      <td>http://data.emobon.embrc.eu/observatory-rformo...</td>\n",
       "      <td>Centre of Marine Sciences (CCMAR)</td>\n",
       "      <td>Bruno Louro</td>\n",
       "      <td>blouro@ualg.pt</td>\n",
       "    </tr>\n",
       "    <tr>\n",
       "      <th>2</th>\n",
       "      <td>http://data.emobon.embrc.eu/observatory-bpns-c...</td>\n",
       "      <td>Flanders Marine Institute (VLIZ)</td>\n",
       "      <td>Klaas Deneudt</td>\n",
       "      <td>klaas.deneudt@vliz.be</td>\n",
       "    </tr>\n",
       "    <tr>\n",
       "      <th>3</th>\n",
       "      <td>http://data.emobon.embrc.eu/observatory-nrmcb-...</td>\n",
       "      <td>Stazione Zoologica Anton Dohrn</td>\n",
       "      <td>Raffaella Casotti</td>\n",
       "      <td>raffaella.casotti@szn.it</td>\n",
       "    </tr>\n",
       "  </tbody>\n",
       "</table>\n",
       "</div>"
      ],
      "text/plain": [
       "                                         observatory  \\\n",
       "0  http://data.emobon.embrc.eu/observatory-rformo...   \n",
       "1  http://data.emobon.embrc.eu/observatory-rformo...   \n",
       "2  http://data.emobon.embrc.eu/observatory-bpns-c...   \n",
       "3  http://data.emobon.embrc.eu/observatory-nrmcb-...   \n",
       "\n",
       "                    observatory_name       contact_name  \\\n",
       "0  Centre of Marine Sciences (CCMAR)        Bruno Louro   \n",
       "1  Centre of Marine Sciences (CCMAR)        Bruno Louro   \n",
       "2   Flanders Marine Institute (VLIZ)      Klaas Deneudt   \n",
       "3     Stazione Zoologica Anton Dohrn  Raffaella Casotti   \n",
       "\n",
       "              contact_email  \n",
       "0            blouro@ualg.pt  \n",
       "1            blouro@ualg.pt  \n",
       "2     klaas.deneudt@vliz.be  \n",
       "3  raffaella.casotti@szn.it  "
      ]
     },
     "execution_count": 18,
     "metadata": {},
     "output_type": "execute_result"
    }
   ],
   "source": [
    "observatory_info"
   ]
  },
  {
   "cell_type": "markdown",
   "id": "82bf52fe-8eb9-4542-a1cf-8647f9b0b337",
   "metadata": {},
   "source": [
    "#### 2. Measured values for properties of interest"
   ]
  },
  {
   "cell_type": "markdown",
   "id": "385623bb-bdc4-4c85-a9ea-11996120e1a4",
   "metadata": {},
   "source": [
    "Get all the properties of interest"
   ]
  },
  {
   "cell_type": "code",
   "execution_count": 31,
   "id": "e12295cd-7ca8-40f3-a355-d8f097f827bf",
   "metadata": {},
   "outputs": [
    {
     "name": "stdout",
     "output_type": "stream",
     "text": [
      "http://vocab.nerc.ac.uk/collection/P01/current/DOXMZZXX/\n",
      "http://vocab.nerc.ac.uk/collection/P02/current/TEMP/\n",
      "http://vocab.nerc.ac.uk/collection/S06/current/S0600278/\n",
      "http://vocab.nerc.ac.uk/collection/S06/current/S0600274/\n",
      "https://vocab.lternet.edu/vocab/vocab/index.php?tema=530&/soil-temperature\n",
      "http://vocab.nerc.ac.uk/collection/A05/current/EV_SALIN/\n",
      "http://vocab.nerc.ac.uk/collection/S27/current/CS002896/\n",
      "http://vocab.nerc.ac.uk/collection/P09/current/REDS/\n",
      "http://vocab.nerc.ac.uk/collection/P01/current/CNDCZZ01/\n",
      "http://vocab.nerc.ac.uk/collection/P02/current/SIGT/\n",
      "http://vocab.nerc.ac.uk/collection/P01/current/NTRAZZXX/\n",
      "http://vocab.nerc.ac.uk/collection/P01/current/NTRIZZXX/\n",
      "http://vocab.nerc.ac.uk/collection/P02/current/SLCA/\n"
     ]
    }
   ],
   "source": [
    "propertyOfInterest = execute_to_df(\"propertiesOfInterest.sparql\")\n",
    "\n",
    "for item in propertyOfInterest.property_of_interest:\n",
    "    print(item)"
   ]
  },
  {
   "cell_type": "markdown",
   "id": "23b21ac6-125d-4787-a03c-cc74a1eed89b",
   "metadata": {},
   "source": [
    "Get the result measurements of one of these variables"
   ]
  },
  {
   "cell_type": "code",
   "execution_count": 29,
   "id": "2726945a-312e-4be4-9d1a-95840c84ae55",
   "metadata": {},
   "outputs": [],
   "source": [
    "# set the observatory type (either: 'sediment [ENVO:00002007]', 'seawater [ENVO:00002149]', 'coastal sea water [ENVO:00002150]', 'surface water [ENVO:00002042]'\n",
    "type = 'seawater [ENVO:00002149]'\n",
    "# set the propertyOfInterest variable \n",
    "var = \"http://vocab.nerc.ac.uk/collection/P01/current/DOXMZZXX/\"\n",
    "\n",
    "measurements = execute_to_df(\"observations.sparql\", type=type, var=var)"
   ]
  },
  {
   "cell_type": "code",
   "execution_count": 30,
   "id": "22fd36f8-fe28-4f33-ba24-3fdcdf254d30",
   "metadata": {},
   "outputs": [
    {
     "data": {
      "text/html": [
       "<div>\n",
       "<style scoped>\n",
       "    .dataframe tbody tr th:only-of-type {\n",
       "        vertical-align: middle;\n",
       "    }\n",
       "\n",
       "    .dataframe tbody tr th {\n",
       "        vertical-align: top;\n",
       "    }\n",
       "\n",
       "    .dataframe thead th {\n",
       "        text-align: right;\n",
       "    }\n",
       "</style>\n",
       "<table border=\"1\" class=\"dataframe\">\n",
       "  <thead>\n",
       "    <tr style=\"text-align: right;\">\n",
       "      <th></th>\n",
       "      <th>sample</th>\n",
       "      <th>measurement</th>\n",
       "      <th>result_value</th>\n",
       "      <th>result_unit</th>\n",
       "    </tr>\n",
       "  </thead>\n",
       "  <tbody>\n",
       "    <tr>\n",
       "      <th>0</th>\n",
       "      <td>http://data.emobon.embrc.eu/observatory-bpns-c...</td>\n",
       "      <td>http://data.emobon.embrc.eu/observatory-bpns-c...</td>\n",
       "      <td>6.652191</td>\n",
       "      <td>http://vocab.nerc.ac.uk/collection/P06/current...</td>\n",
       "    </tr>\n",
       "    <tr>\n",
       "      <th>1</th>\n",
       "      <td>http://data.emobon.embrc.eu/observatory-bpns-c...</td>\n",
       "      <td>http://data.emobon.embrc.eu/observatory-bpns-c...</td>\n",
       "      <td>9.149678</td>\n",
       "      <td>http://vocab.nerc.ac.uk/collection/P06/current...</td>\n",
       "    </tr>\n",
       "    <tr>\n",
       "      <th>2</th>\n",
       "      <td>http://data.emobon.embrc.eu/observatory-bpns-c...</td>\n",
       "      <td>http://data.emobon.embrc.eu/observatory-bpns-c...</td>\n",
       "      <td>9.3230265</td>\n",
       "      <td>http://vocab.nerc.ac.uk/collection/P06/current...</td>\n",
       "    </tr>\n",
       "    <tr>\n",
       "      <th>3</th>\n",
       "      <td>http://data.emobon.embrc.eu/observatory-bpns-c...</td>\n",
       "      <td>http://data.emobon.embrc.eu/observatory-bpns-c...</td>\n",
       "      <td>Expected 12-2024</td>\n",
       "      <td>http://vocab.nerc.ac.uk/collection/P06/current...</td>\n",
       "    </tr>\n",
       "    <tr>\n",
       "      <th>4</th>\n",
       "      <td>http://data.emobon.embrc.eu/observatory-bpns-c...</td>\n",
       "      <td>http://data.emobon.embrc.eu/observatory-bpns-c...</td>\n",
       "      <td>9.3230265</td>\n",
       "      <td>http://vocab.nerc.ac.uk/collection/P06/current...</td>\n",
       "    </tr>\n",
       "    <tr>\n",
       "      <th>...</th>\n",
       "      <td>...</td>\n",
       "      <td>...</td>\n",
       "      <td>...</td>\n",
       "      <td>...</td>\n",
       "    </tr>\n",
       "    <tr>\n",
       "      <th>155</th>\n",
       "      <td>http://data.emobon.embrc.eu/observatory-bpns-c...</td>\n",
       "      <td>http://data.emobon.embrc.eu/observatory-bpns-c...</td>\n",
       "      <td>Expected 12-2024</td>\n",
       "      <td>http://vocab.nerc.ac.uk/collection/P06/current...</td>\n",
       "    </tr>\n",
       "    <tr>\n",
       "      <th>156</th>\n",
       "      <td>http://data.emobon.embrc.eu/observatory-bpns-c...</td>\n",
       "      <td>http://data.emobon.embrc.eu/observatory-bpns-c...</td>\n",
       "      <td>7.49</td>\n",
       "      <td>http://vocab.nerc.ac.uk/collection/P06/current...</td>\n",
       "    </tr>\n",
       "    <tr>\n",
       "      <th>157</th>\n",
       "      <td>http://data.emobon.embrc.eu/observatory-bpns-c...</td>\n",
       "      <td>http://data.emobon.embrc.eu/observatory-bpns-c...</td>\n",
       "      <td>8.021452</td>\n",
       "      <td>http://vocab.nerc.ac.uk/collection/P06/current...</td>\n",
       "    </tr>\n",
       "    <tr>\n",
       "      <th>158</th>\n",
       "      <td>http://data.emobon.embrc.eu/observatory-bpns-c...</td>\n",
       "      <td>http://data.emobon.embrc.eu/observatory-bpns-c...</td>\n",
       "      <td>Expected 12-2024</td>\n",
       "      <td>http://vocab.nerc.ac.uk/collection/P06/current...</td>\n",
       "    </tr>\n",
       "    <tr>\n",
       "      <th>159</th>\n",
       "      <td>http://data.emobon.embrc.eu/observatory-bpns-c...</td>\n",
       "      <td>http://data.emobon.embrc.eu/observatory-bpns-c...</td>\n",
       "      <td>9.7011765</td>\n",
       "      <td>http://vocab.nerc.ac.uk/collection/P06/current...</td>\n",
       "    </tr>\n",
       "  </tbody>\n",
       "</table>\n",
       "<p>160 rows × 4 columns</p>\n",
       "</div>"
      ],
      "text/plain": [
       "                                                sample  \\\n",
       "0    http://data.emobon.embrc.eu/observatory-bpns-c...   \n",
       "1    http://data.emobon.embrc.eu/observatory-bpns-c...   \n",
       "2    http://data.emobon.embrc.eu/observatory-bpns-c...   \n",
       "3    http://data.emobon.embrc.eu/observatory-bpns-c...   \n",
       "4    http://data.emobon.embrc.eu/observatory-bpns-c...   \n",
       "..                                                 ...   \n",
       "155  http://data.emobon.embrc.eu/observatory-bpns-c...   \n",
       "156  http://data.emobon.embrc.eu/observatory-bpns-c...   \n",
       "157  http://data.emobon.embrc.eu/observatory-bpns-c...   \n",
       "158  http://data.emobon.embrc.eu/observatory-bpns-c...   \n",
       "159  http://data.emobon.embrc.eu/observatory-bpns-c...   \n",
       "\n",
       "                                           measurement      result_value  \\\n",
       "0    http://data.emobon.embrc.eu/observatory-bpns-c...          6.652191   \n",
       "1    http://data.emobon.embrc.eu/observatory-bpns-c...          9.149678   \n",
       "2    http://data.emobon.embrc.eu/observatory-bpns-c...         9.3230265   \n",
       "3    http://data.emobon.embrc.eu/observatory-bpns-c...  Expected 12-2024   \n",
       "4    http://data.emobon.embrc.eu/observatory-bpns-c...         9.3230265   \n",
       "..                                                 ...               ...   \n",
       "155  http://data.emobon.embrc.eu/observatory-bpns-c...  Expected 12-2024   \n",
       "156  http://data.emobon.embrc.eu/observatory-bpns-c...              7.49   \n",
       "157  http://data.emobon.embrc.eu/observatory-bpns-c...          8.021452   \n",
       "158  http://data.emobon.embrc.eu/observatory-bpns-c...  Expected 12-2024   \n",
       "159  http://data.emobon.embrc.eu/observatory-bpns-c...         9.7011765   \n",
       "\n",
       "                                           result_unit  \n",
       "0    http://vocab.nerc.ac.uk/collection/P06/current...  \n",
       "1    http://vocab.nerc.ac.uk/collection/P06/current...  \n",
       "2    http://vocab.nerc.ac.uk/collection/P06/current...  \n",
       "3    http://vocab.nerc.ac.uk/collection/P06/current...  \n",
       "4    http://vocab.nerc.ac.uk/collection/P06/current...  \n",
       "..                                                 ...  \n",
       "155  http://vocab.nerc.ac.uk/collection/P06/current...  \n",
       "156  http://vocab.nerc.ac.uk/collection/P06/current...  \n",
       "157  http://vocab.nerc.ac.uk/collection/P06/current...  \n",
       "158  http://vocab.nerc.ac.uk/collection/P06/current...  \n",
       "159  http://vocab.nerc.ac.uk/collection/P06/current...  \n",
       "\n",
       "[160 rows x 4 columns]"
      ]
     },
     "execution_count": 30,
     "metadata": {},
     "output_type": "execute_result"
    }
   ],
   "source": [
    "measurements"
   ]
  }
 ],
 "metadata": {
  "kernelspec": {
   "display_name": "Python 3 (ipykernel)",
   "language": "python",
   "name": "python3"
  },
  "language_info": {
   "codemirror_mode": {
    "name": "ipython",
    "version": 3
   },
   "file_extension": ".py",
   "mimetype": "text/x-python",
   "name": "python",
   "nbconvert_exporter": "python",
   "pygments_lexer": "ipython3",
   "version": "3.11.6"
  }
 },
 "nbformat": 4,
 "nbformat_minor": 5
}
