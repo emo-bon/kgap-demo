{
 "cells": [
  {
   "cell_type": "code",
   "execution_count": 16,
   "id": "631964f5-fc34-4372-86ed-18477c1614c6",
   "metadata": {},
   "outputs": [],
   "source": [
    "from connec_functions import execute_to_df, generate_sparql\n",
    "import pandas as pd"
   ]
  },
  {
   "cell_type": "markdown",
   "id": "755caa51-b611-42b2-8d9b-c64f6e52568a",
   "metadata": {},
   "source": [
    "### Example queries on EMO-BON triples"
   ]
  },
  {
   "cell_type": "markdown",
   "id": "9bdbe7e8-78d5-40f7-b802-69845cf42f7b",
   "metadata": {},
   "source": [
    "#### Listing observatory information"
   ]
  },
  {
   "cell_type": "code",
   "execution_count": 17,
   "id": "132dd23c-10e8-4456-8238-c9e51a34abed",
   "metadata": {},
   "outputs": [],
   "source": [
    "observatory_info = execute_to_df(\"observatories.sparql\")"
   ]
  },
  {
   "cell_type": "code",
   "execution_count": 18,
   "id": "2de6aecd-6a0a-4f32-b93f-8e879931275f",
   "metadata": {},
   "outputs": [
    {
     "data": {
      "text/html": [
       "<div>\n",
       "<style scoped>\n",
       "    .dataframe tbody tr th:only-of-type {\n",
       "        vertical-align: middle;\n",
       "    }\n",
       "\n",
       "    .dataframe tbody tr th {\n",
       "        vertical-align: top;\n",
       "    }\n",
       "\n",
       "    .dataframe thead th {\n",
       "        text-align: right;\n",
       "    }\n",
       "</style>\n",
       "<table border=\"1\" class=\"dataframe\">\n",
       "  <thead>\n",
       "    <tr style=\"text-align: right;\">\n",
       "      <th></th>\n",
       "      <th>observatory</th>\n",
       "      <th>observatory_name</th>\n",
       "      <th>contact_name</th>\n",
       "      <th>contact_email</th>\n",
       "    </tr>\n",
       "  </thead>\n",
       "  <tbody>\n",
       "    <tr>\n",
       "      <th>0</th>\n",
       "      <td>http://data.emobon.embrc.eu/observatory-rformo...</td>\n",
       "      <td>Centre of Marine Sciences (CCMAR)</td>\n",
       "      <td>Bruno Louro</td>\n",
       "      <td>blouro@ualg.pt</td>\n",
       "    </tr>\n",
       "    <tr>\n",
       "      <th>1</th>\n",
       "      <td>http://data.emobon.embrc.eu/observatory-rformo...</td>\n",
       "      <td>Centre of Marine Sciences (CCMAR)</td>\n",
       "      <td>Bruno Louro</td>\n",
       "      <td>blouro@ualg.pt</td>\n",
       "    </tr>\n",
       "    <tr>\n",
       "      <th>2</th>\n",
       "      <td>http://data.emobon.embrc.eu/observatory-bpns-c...</td>\n",
       "      <td>Flanders Marine Institute (VLIZ)</td>\n",
       "      <td>Klaas Deneudt</td>\n",
       "      <td>klaas.deneudt@vliz.be</td>\n",
       "    </tr>\n",
       "    <tr>\n",
       "      <th>3</th>\n",
       "      <td>http://data.emobon.embrc.eu/observatory-nrmcb-...</td>\n",
       "      <td>Stazione Zoologica Anton Dohrn</td>\n",
       "      <td>Raffaella Casotti</td>\n",
       "      <td>raffaella.casotti@szn.it</td>\n",
       "    </tr>\n",
       "  </tbody>\n",
       "</table>\n",
       "</div>"
      ],
      "text/plain": [
       "                                         observatory  \\\n",
       "0  http://data.emobon.embrc.eu/observatory-rformo...   \n",
       "1  http://data.emobon.embrc.eu/observatory-rformo...   \n",
       "2  http://data.emobon.embrc.eu/observatory-bpns-c...   \n",
       "3  http://data.emobon.embrc.eu/observatory-nrmcb-...   \n",
       "\n",
       "                    observatory_name       contact_name  \\\n",
       "0  Centre of Marine Sciences (CCMAR)        Bruno Louro   \n",
       "1  Centre of Marine Sciences (CCMAR)        Bruno Louro   \n",
       "2   Flanders Marine Institute (VLIZ)      Klaas Deneudt   \n",
       "3     Stazione Zoologica Anton Dohrn  Raffaella Casotti   \n",
       "\n",
       "              contact_email  \n",
       "0            blouro@ualg.pt  \n",
       "1            blouro@ualg.pt  \n",
       "2     klaas.deneudt@vliz.be  \n",
       "3  raffaella.casotti@szn.it  "
      ]
     },
     "execution_count": 18,
     "metadata": {},
     "output_type": "execute_result"
    }
   ],
   "source": [
    "observatory_info"
   ]
  },
  {
   "cell_type": "markdown",
   "id": "82bf52fe-8eb9-4542-a1cf-8647f9b0b337",
   "metadata": {},
   "source": [
    "#### Listing measured values for properties of interest"
   ]
  },
  {
   "cell_type": "markdown",
   "id": "385623bb-bdc4-4c85-a9ea-11996120e1a4",
   "metadata": {},
   "source": [
    "Get all the properties of interest"
   ]
  },
  {
   "cell_type": "code",
   "execution_count": 19,
   "id": "e12295cd-7ca8-40f3-a355-d8f097f827bf",
   "metadata": {},
   "outputs": [],
   "source": [
    "propertyOfInterest = execute_to_df(\"propertiesOfInterest.sparql\")"
   ]
  },
  {
   "cell_type": "code",
   "execution_count": 20,
   "id": "6328cbd1-1def-4d22-b481-e821ea89eb4f",
   "metadata": {},
   "outputs": [
    {
     "name": "stdout",
     "output_type": "stream",
     "text": [
      "http://vocab.nerc.ac.uk/collection/P01/current/DOXMZZXX/\n",
      "http://vocab.nerc.ac.uk/collection/P02/current/TEMP/\n",
      "http://vocab.nerc.ac.uk/collection/S06/current/S0600278/\n",
      "http://vocab.nerc.ac.uk/collection/S06/current/S0600274/\n",
      "https://vocab.lternet.edu/vocab/vocab/index.php?tema=530&/soil-temperature\n",
      "http://vocab.nerc.ac.uk/collection/A05/current/EV_SALIN/\n",
      "http://vocab.nerc.ac.uk/collection/S27/current/CS002896/\n",
      "http://vocab.nerc.ac.uk/collection/P09/current/REDS/\n",
      "http://vocab.nerc.ac.uk/collection/P01/current/CNDCZZ01/\n",
      "http://vocab.nerc.ac.uk/collection/P02/current/SIGT/\n",
      "http://vocab.nerc.ac.uk/collection/P01/current/NTRAZZXX/\n",
      "http://vocab.nerc.ac.uk/collection/P01/current/NTRIZZXX/\n",
      "http://vocab.nerc.ac.uk/collection/P02/current/SLCA/\n"
     ]
    }
   ],
   "source": [
    "for item in propertyOfInterest.property_of_interest:\n",
    "    print(item)"
   ]
  },
  {
   "cell_type": "markdown",
   "id": "23b21ac6-125d-4787-a03c-cc74a1eed89b",
   "metadata": {},
   "source": [
    "Get the result measurements of one of these variables"
   ]
  },
  {
   "cell_type": "code",
   "execution_count": 21,
   "id": "2726945a-312e-4be4-9d1a-95840c84ae55",
   "metadata": {},
   "outputs": [
    {
     "ename": "QueryBadFormed",
     "evalue": "QueryBadFormed: A bad request has been sent to the endpoint: probably the SPARQL query is badly formed. \n\nResponse:\nb'MALFORMED QUERY: Lexical error at line 12, column 37.  Encountered: \\'32\\' (32), after prefix \"sediment\"'",
     "output_type": "error",
     "traceback": [
      "\u001b[0;31m---------------------------------------------------------------------------\u001b[0m",
      "\u001b[0;31mHTTPError\u001b[0m                                 Traceback (most recent call last)",
      "File \u001b[0;32m/opt/conda/lib/python3.11/site-packages/SPARQLWrapper/Wrapper.py:926\u001b[0m, in \u001b[0;36mSPARQLWrapper._query\u001b[0;34m(self)\u001b[0m\n\u001b[1;32m    925\u001b[0m \u001b[38;5;28;01melse\u001b[39;00m:\n\u001b[0;32m--> 926\u001b[0m     response \u001b[38;5;241m=\u001b[39m \u001b[43murlopener\u001b[49m\u001b[43m(\u001b[49m\u001b[43mrequest\u001b[49m\u001b[43m)\u001b[49m\n\u001b[1;32m    927\u001b[0m \u001b[38;5;28;01mreturn\u001b[39;00m response, \u001b[38;5;28mself\u001b[39m\u001b[38;5;241m.\u001b[39mreturnFormat\n",
      "File \u001b[0;32m/opt/conda/lib/python3.11/urllib/request.py:216\u001b[0m, in \u001b[0;36murlopen\u001b[0;34m(url, data, timeout, cafile, capath, cadefault, context)\u001b[0m\n\u001b[1;32m    215\u001b[0m     opener \u001b[38;5;241m=\u001b[39m _opener\n\u001b[0;32m--> 216\u001b[0m \u001b[38;5;28;01mreturn\u001b[39;00m \u001b[43mopener\u001b[49m\u001b[38;5;241;43m.\u001b[39;49m\u001b[43mopen\u001b[49m\u001b[43m(\u001b[49m\u001b[43murl\u001b[49m\u001b[43m,\u001b[49m\u001b[43m \u001b[49m\u001b[43mdata\u001b[49m\u001b[43m,\u001b[49m\u001b[43m \u001b[49m\u001b[43mtimeout\u001b[49m\u001b[43m)\u001b[49m\n",
      "File \u001b[0;32m/opt/conda/lib/python3.11/urllib/request.py:525\u001b[0m, in \u001b[0;36mOpenerDirector.open\u001b[0;34m(self, fullurl, data, timeout)\u001b[0m\n\u001b[1;32m    524\u001b[0m     meth \u001b[38;5;241m=\u001b[39m \u001b[38;5;28mgetattr\u001b[39m(processor, meth_name)\n\u001b[0;32m--> 525\u001b[0m     response \u001b[38;5;241m=\u001b[39m \u001b[43mmeth\u001b[49m\u001b[43m(\u001b[49m\u001b[43mreq\u001b[49m\u001b[43m,\u001b[49m\u001b[43m \u001b[49m\u001b[43mresponse\u001b[49m\u001b[43m)\u001b[49m\n\u001b[1;32m    527\u001b[0m \u001b[38;5;28;01mreturn\u001b[39;00m response\n",
      "File \u001b[0;32m/opt/conda/lib/python3.11/urllib/request.py:634\u001b[0m, in \u001b[0;36mHTTPErrorProcessor.http_response\u001b[0;34m(self, request, response)\u001b[0m\n\u001b[1;32m    633\u001b[0m \u001b[38;5;28;01mif\u001b[39;00m \u001b[38;5;129;01mnot\u001b[39;00m (\u001b[38;5;241m200\u001b[39m \u001b[38;5;241m<\u001b[39m\u001b[38;5;241m=\u001b[39m code \u001b[38;5;241m<\u001b[39m \u001b[38;5;241m300\u001b[39m):\n\u001b[0;32m--> 634\u001b[0m     response \u001b[38;5;241m=\u001b[39m \u001b[38;5;28;43mself\u001b[39;49m\u001b[38;5;241;43m.\u001b[39;49m\u001b[43mparent\u001b[49m\u001b[38;5;241;43m.\u001b[39;49m\u001b[43merror\u001b[49m\u001b[43m(\u001b[49m\n\u001b[1;32m    635\u001b[0m \u001b[43m        \u001b[49m\u001b[38;5;124;43m'\u001b[39;49m\u001b[38;5;124;43mhttp\u001b[39;49m\u001b[38;5;124;43m'\u001b[39;49m\u001b[43m,\u001b[49m\u001b[43m \u001b[49m\u001b[43mrequest\u001b[49m\u001b[43m,\u001b[49m\u001b[43m \u001b[49m\u001b[43mresponse\u001b[49m\u001b[43m,\u001b[49m\u001b[43m \u001b[49m\u001b[43mcode\u001b[49m\u001b[43m,\u001b[49m\u001b[43m \u001b[49m\u001b[43mmsg\u001b[49m\u001b[43m,\u001b[49m\u001b[43m \u001b[49m\u001b[43mhdrs\u001b[49m\u001b[43m)\u001b[49m\n\u001b[1;32m    637\u001b[0m \u001b[38;5;28;01mreturn\u001b[39;00m response\n",
      "File \u001b[0;32m/opt/conda/lib/python3.11/urllib/request.py:563\u001b[0m, in \u001b[0;36mOpenerDirector.error\u001b[0;34m(self, proto, *args)\u001b[0m\n\u001b[1;32m    562\u001b[0m args \u001b[38;5;241m=\u001b[39m (\u001b[38;5;28mdict\u001b[39m, \u001b[38;5;124m'\u001b[39m\u001b[38;5;124mdefault\u001b[39m\u001b[38;5;124m'\u001b[39m, \u001b[38;5;124m'\u001b[39m\u001b[38;5;124mhttp_error_default\u001b[39m\u001b[38;5;124m'\u001b[39m) \u001b[38;5;241m+\u001b[39m orig_args\n\u001b[0;32m--> 563\u001b[0m \u001b[38;5;28;01mreturn\u001b[39;00m \u001b[38;5;28;43mself\u001b[39;49m\u001b[38;5;241;43m.\u001b[39;49m\u001b[43m_call_chain\u001b[49m\u001b[43m(\u001b[49m\u001b[38;5;241;43m*\u001b[39;49m\u001b[43margs\u001b[49m\u001b[43m)\u001b[49m\n",
      "File \u001b[0;32m/opt/conda/lib/python3.11/urllib/request.py:496\u001b[0m, in \u001b[0;36mOpenerDirector._call_chain\u001b[0;34m(self, chain, kind, meth_name, *args)\u001b[0m\n\u001b[1;32m    495\u001b[0m func \u001b[38;5;241m=\u001b[39m \u001b[38;5;28mgetattr\u001b[39m(handler, meth_name)\n\u001b[0;32m--> 496\u001b[0m result \u001b[38;5;241m=\u001b[39m \u001b[43mfunc\u001b[49m\u001b[43m(\u001b[49m\u001b[38;5;241;43m*\u001b[39;49m\u001b[43margs\u001b[49m\u001b[43m)\u001b[49m\n\u001b[1;32m    497\u001b[0m \u001b[38;5;28;01mif\u001b[39;00m result \u001b[38;5;129;01mis\u001b[39;00m \u001b[38;5;129;01mnot\u001b[39;00m \u001b[38;5;28;01mNone\u001b[39;00m:\n",
      "File \u001b[0;32m/opt/conda/lib/python3.11/urllib/request.py:643\u001b[0m, in \u001b[0;36mHTTPDefaultErrorHandler.http_error_default\u001b[0;34m(self, req, fp, code, msg, hdrs)\u001b[0m\n\u001b[1;32m    642\u001b[0m \u001b[38;5;28;01mdef\u001b[39;00m \u001b[38;5;21mhttp_error_default\u001b[39m(\u001b[38;5;28mself\u001b[39m, req, fp, code, msg, hdrs):\n\u001b[0;32m--> 643\u001b[0m     \u001b[38;5;28;01mraise\u001b[39;00m HTTPError(req\u001b[38;5;241m.\u001b[39mfull_url, code, msg, hdrs, fp)\n",
      "\u001b[0;31mHTTPError\u001b[0m: HTTP Error 400: ",
      "\nDuring handling of the above exception, another exception occurred:\n",
      "\u001b[0;31mQueryBadFormed\u001b[0m                            Traceback (most recent call last)",
      "Cell \u001b[0;32mIn[21], line 6\u001b[0m\n\u001b[1;32m      3\u001b[0m \u001b[38;5;66;03m# set the propertyOfInterest variable \u001b[39;00m\n\u001b[1;32m      4\u001b[0m var \u001b[38;5;241m=\u001b[39m \u001b[38;5;124m\"\u001b[39m\u001b[38;5;124mhttp://vocab.nerc.ac.uk/collection/P01/current/DOXMZZXX/\u001b[39m\u001b[38;5;124m\"\u001b[39m\n\u001b[0;32m----> 6\u001b[0m measurments \u001b[38;5;241m=\u001b[39m \u001b[43mexecute_to_df\u001b[49m\u001b[43m(\u001b[49m\u001b[38;5;124;43m\"\u001b[39;49m\u001b[38;5;124;43mobservations.sparql\u001b[39;49m\u001b[38;5;124;43m\"\u001b[39;49m\u001b[43m,\u001b[49m\u001b[43m \u001b[49m\u001b[38;5;28;43mtype\u001b[39;49m\u001b[38;5;241;43m=\u001b[39;49m\u001b[38;5;28;43mtype\u001b[39;49m\u001b[43m,\u001b[49m\u001b[43m \u001b[49m\u001b[43mvar\u001b[49m\u001b[38;5;241;43m=\u001b[39;49m\u001b[43mvar\u001b[49m\u001b[43m)\u001b[49m\n",
      "File \u001b[0;32m/notebooks/connec_functions.py:29\u001b[0m, in \u001b[0;36mexecute_to_df\u001b[0;34m(name, **vars)\u001b[0m\n\u001b[1;32m     27\u001b[0m \u001b[38;5;250m\u001b[39m\u001b[38;5;124;03m\"\"\"Builds the sparql and executes, returning the result as a dataframe.\"\"\"\u001b[39;00m\n\u001b[1;32m     28\u001b[0m sparql \u001b[38;5;241m=\u001b[39m generate_sparql(name, \u001b[38;5;241m*\u001b[39m\u001b[38;5;241m*\u001b[39m\u001b[38;5;28mvars\u001b[39m)\n\u001b[0;32m---> 29\u001b[0m result: QueryResult \u001b[38;5;241m=\u001b[39m \u001b[43mGDB\u001b[49m\u001b[38;5;241;43m.\u001b[39;49m\u001b[43mquery\u001b[49m\u001b[43m(\u001b[49m\u001b[43msparql\u001b[49m\u001b[38;5;241;43m=\u001b[39;49m\u001b[43msparql\u001b[49m\u001b[43m)\u001b[49m\n\u001b[1;32m     30\u001b[0m \u001b[38;5;28;01mreturn\u001b[39;00m result\u001b[38;5;241m.\u001b[39mto_dataframe()\n",
      "File \u001b[0;32m/opt/conda/lib/python3.11/site-packages/pykg2tbl/kg2tbl.py:183\u001b[0m, in \u001b[0;36mKG2EndpointSource.query\u001b[0;34m(self, sparql, return_format)\u001b[0m\n\u001b[1;32m    181\u001b[0m     \u001b[38;5;66;03m# TODO: Allow reading the format from the endpoint.\u001b[39;00m\n\u001b[1;32m    182\u001b[0m     ep\u001b[38;5;241m.\u001b[39msetReturnFormat(return_format)\n\u001b[0;32m--> 183\u001b[0m     resdict \u001b[38;5;241m=\u001b[39m \u001b[43mep\u001b[49m\u001b[38;5;241;43m.\u001b[39;49m\u001b[43mquery\u001b[49m\u001b[43m(\u001b[49m\u001b[43m)\u001b[49m\u001b[38;5;241m.\u001b[39mconvert()\n\u001b[1;32m    184\u001b[0m     reslist \u001b[38;5;241m=\u001b[39m reslist \u001b[38;5;241m+\u001b[39m KG2EndpointSource\u001b[38;5;241m.\u001b[39mquery_result_to_list_dicts(\n\u001b[1;32m    185\u001b[0m         resdict\n\u001b[1;32m    186\u001b[0m     )\n\u001b[1;32m    188\u001b[0m query_result \u001b[38;5;241m=\u001b[39m QueryResult\u001b[38;5;241m.\u001b[39mbuild(reslist, query\u001b[38;5;241m=\u001b[39msparql)\n",
      "File \u001b[0;32m/opt/conda/lib/python3.11/site-packages/SPARQLWrapper/Wrapper.py:960\u001b[0m, in \u001b[0;36mSPARQLWrapper.query\u001b[0;34m(self)\u001b[0m\n\u001b[1;32m    942\u001b[0m \u001b[38;5;28;01mdef\u001b[39;00m \u001b[38;5;21mquery\u001b[39m(\u001b[38;5;28mself\u001b[39m) \u001b[38;5;241m-\u001b[39m\u001b[38;5;241m>\u001b[39m \u001b[38;5;124m\"\u001b[39m\u001b[38;5;124mQueryResult\u001b[39m\u001b[38;5;124m\"\u001b[39m:\n\u001b[1;32m    943\u001b[0m \u001b[38;5;250m    \u001b[39m\u001b[38;5;124;03m\"\"\"\u001b[39;00m\n\u001b[1;32m    944\u001b[0m \u001b[38;5;124;03m    Execute the query.\u001b[39;00m\n\u001b[1;32m    945\u001b[0m \u001b[38;5;124;03m    Exceptions can be raised if either the URI is wrong or the HTTP sends back an error (this is also the\u001b[39;00m\n\u001b[0;32m   (...)\u001b[0m\n\u001b[1;32m    958\u001b[0m \u001b[38;5;124;03m    :rtype: :class:`QueryResult` instance\u001b[39;00m\n\u001b[1;32m    959\u001b[0m \u001b[38;5;124;03m    \"\"\"\u001b[39;00m\n\u001b[0;32m--> 960\u001b[0m     \u001b[38;5;28;01mreturn\u001b[39;00m QueryResult(\u001b[38;5;28;43mself\u001b[39;49m\u001b[38;5;241;43m.\u001b[39;49m\u001b[43m_query\u001b[49m\u001b[43m(\u001b[49m\u001b[43m)\u001b[49m)\n",
      "File \u001b[0;32m/opt/conda/lib/python3.11/site-packages/SPARQLWrapper/Wrapper.py:930\u001b[0m, in \u001b[0;36mSPARQLWrapper._query\u001b[0;34m(self)\u001b[0m\n\u001b[1;32m    928\u001b[0m \u001b[38;5;28;01mexcept\u001b[39;00m urllib\u001b[38;5;241m.\u001b[39merror\u001b[38;5;241m.\u001b[39mHTTPError \u001b[38;5;28;01mas\u001b[39;00m e:\n\u001b[1;32m    929\u001b[0m     \u001b[38;5;28;01mif\u001b[39;00m e\u001b[38;5;241m.\u001b[39mcode \u001b[38;5;241m==\u001b[39m \u001b[38;5;241m400\u001b[39m:\n\u001b[0;32m--> 930\u001b[0m         \u001b[38;5;28;01mraise\u001b[39;00m QueryBadFormed(e\u001b[38;5;241m.\u001b[39mread())\n\u001b[1;32m    931\u001b[0m     \u001b[38;5;28;01melif\u001b[39;00m e\u001b[38;5;241m.\u001b[39mcode \u001b[38;5;241m==\u001b[39m \u001b[38;5;241m404\u001b[39m:\n\u001b[1;32m    932\u001b[0m         \u001b[38;5;28;01mraise\u001b[39;00m EndPointNotFound(e\u001b[38;5;241m.\u001b[39mread())\n",
      "\u001b[0;31mQueryBadFormed\u001b[0m: QueryBadFormed: A bad request has been sent to the endpoint: probably the SPARQL query is badly formed. \n\nResponse:\nb'MALFORMED QUERY: Lexical error at line 12, column 37.  Encountered: \\'32\\' (32), after prefix \"sediment\"'"
     ]
    }
   ],
   "source": [
    "# set the observatory type (either: 'sediment [ENVO:00002007]', 'seawater [ENVO:00002149]', 'coastal sea water [ENVO:00002150]', 'surface water [ENVO:00002042]'\n",
    "type = 'sediment [ENVO:00002007]'\n",
    "# set the propertyOfInterest variable \n",
    "var = \"http://vocab.nerc.ac.uk/collection/P01/current/DOXMZZXX/\"\n",
    "\n",
    "measurments = execute_to_df(\"observations.sparql\", type=type, var=var)"
   ]
  }
 ],
 "metadata": {
  "kernelspec": {
   "display_name": "Python 3 (ipykernel)",
   "language": "python",
   "name": "python3"
  },
  "language_info": {
   "codemirror_mode": {
    "name": "ipython",
    "version": 3
   },
   "file_extension": ".py",
   "mimetype": "text/x-python",
   "name": "python",
   "nbconvert_exporter": "python",
   "pygments_lexer": "ipython3",
   "version": "3.11.6"
  }
 },
 "nbformat": 4,
 "nbformat_minor": 5
}
